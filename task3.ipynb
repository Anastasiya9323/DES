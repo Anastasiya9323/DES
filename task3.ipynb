{
  "nbformat": 4,
  "nbformat_minor": 0,
  "metadata": {
    "colab": {
      "provenance": [],
      "authorship_tag": "ABX9TyN22bfwZEKsAhaA1FVnB/hj",
      "include_colab_link": true
    },
    "kernelspec": {
      "name": "python3",
      "display_name": "Python 3"
    },
    "language_info": {
      "name": "python"
    }
  },
  "cells": [
    {
      "cell_type": "markdown",
      "metadata": {
        "id": "view-in-github",
        "colab_type": "text"
      },
      "source": [
        "<a href=\"https://colab.research.google.com/github/Anastasiya9323/DES/blob/main/task3.ipynb\" target=\"_parent\"><img src=\"https://colab.research.google.com/assets/colab-badge.svg\" alt=\"Open In Colab\"/></a>"
      ]
    },
    {
      "cell_type": "code",
      "execution_count": 2,
      "metadata": {
        "id": "uTToNZmcaC1f"
      },
      "outputs": [],
      "source": [
        "import torch\n",
        "import matplotlib.pyplot as plt\n"
      ]
    },
    {
      "cell_type": "code",
      "source": [
        "def predict(net, x, y):\n",
        "    y_pred = net.forward(x)\n",
        "\n",
        "    plt.plot(x.numpy(), y.numpy(), 'o', label='Groud truth')\n",
        "    plt.plot(x.numpy(), y_pred.data.numpy(), 'o', c='r', label='Prediction');\n",
        "    plt.legend(loc='upper left')\n",
        "    plt.xlabel('$x$')\n",
        "    plt.ylabel('$y$')\n"
      ],
      "metadata": {
        "id": "ur3FVtIHahzX"
      },
      "execution_count": 3,
      "outputs": []
    },
    {
      "cell_type": "code",
      "source": [
        "def target_function(x):\n",
        "    return 2**x * torch.sin(2**-x)\n"
      ],
      "metadata": {
        "id": "PNlZmMYBasn0"
      },
      "execution_count": 4,
      "outputs": []
    },
    {
      "cell_type": "code",
      "source": [
        "def metric(pred, target):\n",
        "       return (pred - target).abs().mean()\n"
      ],
      "metadata": {
        "id": "HTNIxqewawfw"
      },
      "execution_count": 5,
      "outputs": []
    },
    {
      "cell_type": "code",
      "source": [
        "class RegressionNet(torch.nn.Module):\n",
        "  def __init__(self, n_hidden_neurons):\n",
        "        super(RegressionNet, self).__init__()\n",
        "        self.fc1 = torch.nn.Linear(1, n_hidden_neurons)\n",
        "        self.act1 = torch.nn.Sigmoid()\n",
        "        self.fc2 = torch.nn.Linear(n_hidden_neurons, 1)\n",
        "\n",
        "  def forward(self, x):\n",
        "        x = self.fc1(x)\n",
        "        x = self.act1(x)\n",
        "        x = self.fc2(x)\n",
        "        return x\n",
        "      \n",
        "net = RegressionNet(3)          "
      ],
      "metadata": {
        "id": "A93U2OvHax8U"
      },
      "execution_count": 6,
      "outputs": []
    },
    {
      "cell_type": "code",
      "source": [
        "x_train =  torch.linspace(-10, 5, 100)\n",
        "y_train = target_function(x_train)\n",
        "noise = torch.randn(y_train.shape) / 20.\n",
        "y_train = y_train + noise\n",
        "x_train.unsqueeze_(1)\n",
        "y_train.unsqueeze_(1)\n"
      ],
      "metadata": {
        "id": "FI-QIRy0b9gd"
      },
      "execution_count": null,
      "outputs": []
    },
    {
      "cell_type": "code",
      "source": [
        "x_validation = torch.linspace(-10, 5, 100)\n",
        "y_validation = target_function(x_validation)\n",
        "x_validation.unsqueeze_(1)\n",
        "y_validation.unsqueeze_(1)\n"
      ],
      "metadata": {
        "id": "IGD_0vKacVvD"
      },
      "execution_count": null,
      "outputs": []
    },
    {
      "cell_type": "code",
      "source": [
        "optimizer = torch.optim.Adam(net.parameters(), lr= 0.01)    "
      ],
      "metadata": {
        "id": "nOBTvEK3cXpm"
      },
      "execution_count": 9,
      "outputs": []
    },
    {
      "cell_type": "code",
      "source": [
        "def loss(pred, target):\n",
        "    squares = abs(pred - target)\n",
        "    return squares.mean()"
      ],
      "metadata": {
        "id": "S6crWpSmck1h"
      },
      "execution_count": 10,
      "outputs": []
    },
    {
      "cell_type": "code",
      "source": [
        "for epoch_index in range(2000):                   \n",
        "    optimizer.zero_grad()\n",
        "\n",
        "    y_pred =net.forward(x_train)                                             \n",
        "    loss_value = loss(y_pred, y_train)\n",
        "    loss_value.backward()\n",
        "    optimizer.step()\n",
        "\n",
        "\n"
      ],
      "metadata": {
        "id": "L4-hv9W4dP7k"
      },
      "execution_count": 11,
      "outputs": []
    },
    {
      "cell_type": "code",
      "source": [
        "print(metric(net.forward(x_validation), y_validation).item())\n",
        "\n",
        "predict(net, x_validation, y_validation)  \n"
      ],
      "metadata": {
        "colab": {
          "base_uri": "https://localhost:8080/",
          "height": 296
        },
        "id": "sN508P_SeKw9",
        "outputId": "6c173c00-3396-4d8c-e826-3a8f705c0877"
      },
      "execution_count": 12,
      "outputs": [
        {
          "output_type": "stream",
          "name": "stdout",
          "text": [
            "0.01900658942759037\n"
          ]
        },
        {
          "output_type": "display_data",
          "data": {
            "text/plain": [
              "<Figure size 432x288 with 1 Axes>"
            ],
            "image/png": "[encoded data removed]"
          },
          "metadata": {
            "needs_background": "light"
          }
        }
      ]
    }
  ]
}