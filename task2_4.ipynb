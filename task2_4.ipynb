{
  "nbformat": 4,
  "nbformat_minor": 0,
  "metadata": {
    "colab": {
      "provenance": [],
      "authorship_tag": "ABX9TyPfDHCixPqJgVJHVr5mmUhr",
      "include_colab_link": true
    },
    "kernelspec": {
      "name": "python3",
      "display_name": "Python 3"
    },
    "language_info": {
      "name": "python"
    }
  },
  "cells": [
    {
      "cell_type": "markdown",
      "metadata": {
        "id": "view-in-github",
        "colab_type": "text"
      },
      "source": [
        "<a href=\"https://colab.research.google.com/github/Anastasiya9323/DES/blob/main/task2_4.ipynb\" target=\"_parent\"><img src=\"https://colab.research.google.com/assets/colab-badge.svg\" alt=\"Open In Colab\"/></a>"
      ]
    },
    {
      "cell_type": "code",
      "execution_count": null,
      "metadata": {
        "id": "0NwIt2gfJe3h"
      },
      "outputs": [],
      "source": [
        "import torch\n",
        "\n",
        "w = torch.tensor(\n",
        "    [[5., 10.],\n",
        "     [1., 2.]], requires_grad=True)\n",
        "\n",
        "#######\n",
        "device = torch.device('cuda:0' \n",
        "                      if torch.cuda.is_available() \n",
        "                      else 'cpu')\n",
        "w = w.to(device)\n",
        "#######\n",
        "\n",
        "optimizer =  torch.optim.SGD([w],lr=0.001)\n",
        "for _ in range(500):\n",
        "    function = torch.log(torch.log(w+7)).prod()\n",
        "    function.backward()\n",
        "    optimizer.step()\n",
        "    w.grad.zero_()\n",
        "\n",
        "print(w)"
      ]
    },
    {
      "cell_type": "code",
      "source": [
        "import torch\n",
        "import numpy as np\n",
        "import matplotlib.pyplot as plt\n",
        "\n",
        "def show_contours(objective,\n",
        "                  x_lims=[-10.0, 10.0], \n",
        "                  y_lims=[-10.0, 10.0],\n",
        "                  x_ticks=100,\n",
        "                  y_ticks=100):\n",
        "    x_step = (x_lims[1] - x_lims[0]) / x_ticks\n",
        "    y_step = (y_lims[1] - y_lims[0]) / y_ticks\n",
        "    X, Y = np.mgrid[x_lims[0]:x_lims[1]:x_step, y_lims[0]:y_lims[1]:y_step]\n",
        "    res = []\n",
        "    for x_index in range(X.shape[0]):\n",
        "        res.append([])\n",
        "        for y_index in range(X.shape[1]):\n",
        "            x_val = X[x_index, y_index]\n",
        "            y_val = Y[x_index, y_index]\n",
        "            res[-1].append(objective(np.array([[x_val, y_val]]).T))\n",
        "    res = np.array(res)\n",
        "    plt.figure(figsize=(7,7))\n",
        "    plt.contour(X, Y, res, 100)\n",
        "    plt.xlabel('$x_1$')\n",
        "    plt.ylabel('$x_2$')"
      ],
      "metadata": {
        "id": "z06kwtVgKhB7"
      },
      "execution_count": null,
      "outputs": []
    }
  ]
}