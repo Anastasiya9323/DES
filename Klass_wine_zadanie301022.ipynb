{
  "nbformat": 4,
  "nbformat_minor": 0,
  "metadata": {
    "colab": {
      "name": "Klass_wine_zadanie.ipynb",
      "provenance": [],
      "include_colab_link": true
    },
    "kernelspec": {
      "name": "python3",
      "display_name": "Python 3"
    },
    "language_info": {
      "name": "python"
    }
  },
  "cells": [
    {
      "cell_type": "markdown",
      "metadata": {
        "id": "view-in-github",
        "colab_type": "text"
      },
      "source": [
        "<a href=\"https://colab.research.google.com/github/Anastasiya9323/DES/blob/main/Klass_wine_zadanie301022.ipynb\" target=\"_parent\"><img src=\"https://colab.research.google.com/assets/colab-badge.svg\" alt=\"Open In Colab\"/></a>"
      ]
    },
    {
      "cell_type": "code",
      "metadata": {
        "id": "O86PX6xMt7Lm"
      },
      "source": [
        "import torch\n",
        "import random\n",
        "import numpy as np\n",
        "from sklearn.model_selection import train_test_split\n",
        "from sklearn.datasets import load_wine\n",
        "\n",
        "random.seed(1)\n",
        "np.random.seed(1)\n",
        "torch.manual_seed(1)\n",
        "torch.cuda.manual_seed(1)\n",
        "torch.backends.cudnn.deterministic = True"
      ],
      "execution_count": 375,
      "outputs": []
    },
    {
      "cell_type": "code",
      "metadata": {
        "id": "LnPAhCISuSYm"
      },
      "source": [
        "wine = load_wine()\n",
        "features = 13 # use 13 features\n",
        "\n",
        "X_train, X_test, y_train, y_test = train_test_split(\n",
        "    wine.data[:, :features], \n",
        "    wine.target, \n",
        "    test_size=0.3, \n",
        "    shuffle=True)\n",
        "\n",
        "X_train = torch.FloatTensor(X_train)\n",
        "X_test = torch.FloatTensor(X_test)\n",
        "y_train = torch.LongTensor(y_train)\n",
        "y_test = torch.LongTensor(y_test)"
      ],
      "execution_count": 376,
      "outputs": []
    },
    {
      "cell_type": "code",
      "metadata": {
        "id": "FNd5O2wxuVx-"
      },
      "source": [
        "class WineNet(torch.nn.Module):\n",
        "    def __init__(self,n_input, n_hidden_neurons):\n",
        "        super(WineNet, self).__init__()\n",
        "        self.fc1 = torch.nn.Linear(n_input, n_hidden_neurons)\n",
        "        self.activ1=torch.nn.Sigmoid()\n",
        "        self.fc2=torch.nn.Linear(n_hidden_neurons,n_hidden_neurons)\n",
        "        self.activ2=torch.nn.Sigmoid()\n",
        "        self.fc3=torch.nn.Linear(n_hidden_neurons,3)\n",
        "        self.sm = torch.nn.Softmax(dim=1)\n",
        "        \n",
        "    def forward(self, x):\n",
        "        x = self.fc1(x)\n",
        "        x = self.activ1(x)\n",
        "        x = self.fc2(x)\n",
        "        x = self.activ2(x)\n",
        "        x = self.fc3(x)\n",
        "        return x\n",
        "\n",
        "    def inference(self, x):\n",
        "        x = self.forward(x)\n",
        "        x = self.sm(x)\n",
        "        return x\n",
        "    \n",
        "n_input = features # choose number of input neurons\n",
        "n_hidden = 15 # choose number of hidden neurons\n",
        "wine_net = WineNet(n_input, n_hidden)"
      ],
      "execution_count": 377,
      "outputs": []
    },
    {
      "cell_type": "code",
      "metadata": {
        "id": "9LBWbCOBucoM"
      },
      "source": [
        "loss = torch.nn.CrossEntropyLoss()\n",
        "optimizer = torch.optim.Adam(wine_net.parameters(), lr=1.0e-3)"
      ],
      "execution_count": 378,
      "outputs": []
    },
    {
      "cell_type": "code",
      "metadata": {
        "id": "gR6mpcSwue-t",
        "outputId": "929c38d3-c046-4561-f443-55c27860b188",
        "colab": {
          "base_uri": "https://localhost:8080/"
        }
      },
      "source": [
        "batch_size =  50 # choose different batch sizes\n",
        "\n",
        "for epoch in range(2000):\n",
        "    order = np.random.permutation(len(X_train))\n",
        "    for start_index in range(0, len(X_train), batch_size):\n",
        "        optimizer.zero_grad()\n",
        "        \n",
        "        batch_indexes = order[start_index:start_index+batch_size]\n",
        "        \n",
        "        x_batch = X_train[batch_indexes]\n",
        "        y_batch = y_train[batch_indexes]\n",
        "        \n",
        "        preds = wine_net.forward(x_batch) \n",
        "        \n",
        "        loss_value = loss(preds, y_batch)\n",
        "        loss_value.backward()\n",
        "        \n",
        "        optimizer.step()\n",
        "        \n",
        "    if epoch % 100 == 0:\n",
        "        test_preds = wine_net.forward(X_test)\n",
        "        test_preds = test_preds.argmax(dim=1)\n",
        "        print((test_preds == y_test).float().mean())"
      ],
      "execution_count": 379,
      "outputs": [
        {
          "output_type": "stream",
          "name": "stdout",
          "text": [
            "tensor(0.4259)\n",
            "tensor(0.3519)\n",
            "tensor(0.7037)\n",
            "tensor(0.8704)\n",
            "tensor(0.8889)\n",
            "tensor(0.8889)\n",
            "tensor(0.8889)\n",
            "tensor(0.8889)\n",
            "tensor(0.8889)\n",
            "tensor(0.9259)\n",
            "tensor(0.9074)\n",
            "tensor(0.9074)\n",
            "tensor(0.9259)\n",
            "tensor(0.9259)\n",
            "tensor(0.9259)\n",
            "tensor(0.9444)\n",
            "tensor(0.9630)\n",
            "tensor(0.9630)\n",
            "tensor(0.9444)\n",
            "tensor(0.9630)\n"
          ]
        }
      ]
    },
    {
      "cell_type": "code",
      "metadata": {
        "id": "opLOUZnaui6z",
        "outputId": "917fb013-dad9-4fc8-9cda-8f66b91f85b1",
        "colab": {
          "base_uri": "https://localhost:8080/"
        }
      },
      "source": [
        "print(wine_net.fc1.in_features, np.asarray((test_preds == y_test).float().mean()) > 0.8)\n",
        "# need to get 13 True\n",
        "print(len(wine.target[wine.target == 1]) / len(wine.target)) #количество элементов второго класса делим на количесвто элементов всех классов\n",
        "print(np.unique(wine.target, return_counts=True)[1].max()/len(wine.target)) # берется максимальное количество элементов из всех трех классов\n",
        "                                                                           # и делится на все элементы\n",
        "print(max(np.bincount(wine.target)/wine.target.size)) #np.bincount(wine.target)/wine.target.size - массив из трех элементов \n",
        "                                                      #где каждый из элементов это количество элементов класса поделенное на общее количество элементов\n",
        "                                                      # и из них выбирается максимальный\n",
        "print((torch.LongTensor(wine.target) == torch.LongTensor([1]*wine.target.shape[0])).float().mean()) #хрен его знает что здесь творится помимо того что берут среднее"
      ],
      "execution_count": 390,
      "outputs": [
        {
          "output_type": "stream",
          "name": "stdout",
          "text": [
            "13 True\n",
            "0.398876404494382\n",
            "0.398876404494382\n",
            "0.398876404494382\n",
            "tensor(0.3989)\n"
          ]
        }
      ]
    }
  ]
}