{
  "nbformat": 4,
  "nbformat_minor": 0,
  "metadata": {
    "colab": {
      "provenance": [],
      "authorship_tag": "ABX9TyNXNRuuGm0r4fNDKDa3fOar",
      "include_colab_link": true
    },
    "kernelspec": {
      "name": "python3",
      "display_name": "Python 3"
    },
    "language_info": {
      "name": "python"
    }
  },
  "cells": [
    {
      "cell_type": "markdown",
      "metadata": {
        "id": "view-in-github",
        "colab_type": "text"
      },
      "source": [
        "<a href=\"https://colab.research.google.com/github/Anastasiya9323/DES/blob/main/lab3new.ipynb\" target=\"_parent\"><img src=\"https://colab.research.google.com/assets/colab-badge.svg\" alt=\"Open In Colab\"/></a>"
      ]
    },
    {
      "cell_type": "markdown",
      "source": [
        "y=cos(x-3)*2^(-x)\n",
        "\n",
        "09.03"
      ],
      "metadata": {
        "id": "RztxrNphg5tx"
      }
    },
    {
      "cell_type": "code",
      "execution_count": 18,
      "metadata": {
        "id": "62di_0-ZdMvX"
      },
      "outputs": [],
      "source": [
        "import torch\n",
        "import matplotlib.pyplot as plt\n",
        "def predict(net, x, y):\n",
        "    y_pred = net.forward(x)\n",
        "\n",
        "    plt.plot(x.numpy(), y.numpy(), 'o', label='Groud truth')\n",
        "    plt.plot(x.numpy(), y_pred.data.numpy(), 'o', c='r', label='Prediction');\n",
        "    plt.legend(loc='upper left')\n",
        "    plt.xlabel('$x$')\n",
        "    plt.ylabel('$y$')\n",
        "def target_function(x):\n",
        "    return 2**(-x) * torch.cos(x-3)\n",
        "def metric(pred, target):\n",
        "       return (pred - target).abs().mean()\n",
        "class RegressionNet(torch.nn.Module):\n",
        "  def __init__(self, n_hidden_neurons):\n",
        "        super(RegressionNet, self).__init__()\n",
        "        self.fc1 = torch.nn.Linear(1, n_hidden_neurons)\n",
        "        self.act1 = torch.nn.Sigmoid()\n",
        "        self.fc2 = torch.nn.Linear(n_hidden_neurons, 1)\n",
        "\n",
        "  def forward(self, x):\n",
        "        x = self.fc1(x)\n",
        "        x = self.act1(x)\n",
        "        x = self.fc2(x)\n",
        "        return x\n",
        "      \n",
        "net = RegressionNet(30)"
      ]
    },
    {
      "cell_type": "code",
      "source": [
        "x_train =  torch.linspace(-10, 5, 100)\n",
        "y_train = target_function(x_train)\n",
        "noise = torch.randn(y_train.shape) / 20.\n",
        "y_train = y_train + noise\n",
        "x_train.unsqueeze_(1)\n",
        "y_train.unsqueeze_(1)\n",
        "x_validation = torch.linspace(-10, 5, 100)\n",
        "y_validation = target_function(x_validation)\n",
        "x_validation.unsqueeze_(1)\n",
        "y_validation.unsqueeze_(1)"
      ],
      "metadata": {
        "id": "ojgtDEOrf34a"
      },
      "execution_count": null,
      "outputs": []
    },
    {
      "cell_type": "code",
      "source": [
        "optimizer = torch.optim.Adam(net.parameters(), lr= 0.001)\n",
        "def loss(pred, target):\n",
        "    squares = abs(pred - target)\n",
        "    return squares.mean()\n",
        "for epoch_index in range(1000):                   \n",
        "    optimizer.zero_grad()\n",
        "\n",
        "    y_pred =net.forward(x_train)                                             \n",
        "    loss_value = loss(y_pred, y_train)\n",
        "    loss_value.backward()\n",
        "    optimizer.step()\n",
        "print(metric(net.forward(x_validation), y_validation).item())\n",
        "\n",
        "predict(net, x_validation, y_validation)"
      ],
      "metadata": {
        "colab": {
          "base_uri": "https://localhost:8080/",
          "height": 296
        },
        "id": "qvfnGZypgZNX",
        "outputId": "67b714f1-6948-4aff-b040-ae3c1088661e"
      },
      "execution_count": 54,
      "outputs": [
        {
          "output_type": "stream",
          "name": "stdout",
          "text": [
            "0.09984058141708374\n"
          ]
        },
        {
          "output_type": "display_data",
          "data": {
            "text/plain": [
              "<Figure size 432x288 with 1 Axes>"
            ],
            "image/png": "[encoded data removed]"
          },
          "metadata": {
            "needs_background": "light"
          }
        }
      ]
    }
  ]
}